{
 "cells": [
  {
   "cell_type": "code",
   "execution_count": 1,
   "metadata": {},
   "outputs": [
    {
     "name": "stdout",
     "output_type": "stream",
     "text": [
      "Hello, Honey R Shetty!\n"
     ]
    }
   ],
   "source": [
    "print('Hello, Honey R Shetty!')"
   ]
  },
  {
   "cell_type": "markdown",
   "metadata": {},
   "source": [
    "HONEY R SHETTY"
   ]
  },
  {
   "cell_type": "markdown",
   "metadata": {},
   "source": [
    "##Keyboard Shortcuts\n",
    "\n",
    "Shift + Enter: Run the current cell.\n",
    "\n",
    "A: Insert a new cell above.\n",
    "\n",
    "B: Insert a new cell below.\n",
    "\n",
    "DD: Delete the current cell.\n",
    "\n",
    "M: Convert a cell to Markdown.\n",
    "\n",
    "Y: Convert a cell to code.\n"
   ]
  }
 ],
 "metadata": {
  "kernelspec": {
   "display_name": "Python 3",
   "language": "python",
   "name": "python3"
  },
  "language_info": {
   "codemirror_mode": {
    "name": "ipython",
    "version": 3
   },
   "file_extension": ".py",
   "mimetype": "text/x-python",
   "name": "python",
   "nbconvert_exporter": "python",
   "pygments_lexer": "ipython3",
   "version": "3.10.12"
  }
 },
 "nbformat": 4,
 "nbformat_minor": 2
}
